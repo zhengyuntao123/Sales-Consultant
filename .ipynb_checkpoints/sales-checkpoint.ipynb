{
 "cells": [
  {
   "cell_type": "code",
   "execution_count": 1,
   "id": "efcee928-b9f4-4e4a-b9fb-f6cbee21b642",
   "metadata": {
    "tags": []
   },
   "outputs": [],
   "source": [
    "with open(\"real_estate_sales_data.txt\",encoding='utf-8') as f:\n",
    "    real_estate_sales = f.read()"
   ]
  },
  {
   "cell_type": "code",
   "execution_count": 2,
   "id": "fc475eb4-13ae-4172-8f74-69a3711adfec",
   "metadata": {
    "collapsed": true,
    "jupyter": {
     "outputs_hidden": true
    },
    "tags": []
   },
   "outputs": [
    {
     "data": {
      "text/plain": [
       "'[客户问题] 这个小区交通便利吗？\\n[销售回答] 当然了，这个小区距离地铁站只有几分钟的步行距离，而且附近有多条公交线路，非常方便。\\n\\n[客户问题] 我担心楼下太吵。\\n[销售回答] 这个小区特别注重居住体验，我们有良好的隔音设计，并且小区内部规划了绿化区域，可以有效降低噪音。\\n\\n[客户问题] 我看房价还在涨，这个投资回报怎么样？\\n[销售回答] 这个区域未来有大量的商业和基础设施建设，所以从长期来看，投资回报非常有保证。\\n  \\n[客户问题] 有没有学校？\\n[销售回答] 附近有多所优质的学校，非常适合有孩子的家庭。\\n \\n[客户问题] 物业管理怎么样？\\n[销售回答] 我们的物业管理得到了业主一致好评，服务非常到位。\\n \\n[客户问题] 我想要南向的房子。\\n[销售回答] 很好，我们确实有一些朝南的单位，它们的采光特别好。\\n \\n[客户问题] 这个小区安全吗？\\n[销售回答] 当然，我们24小时安保巡逻，还有先进的监控系统。\\n \\n[客户问题] 预计什么时候交房？\\n[销售回答] 根据目前的进度，我们预计将在明年底交房。\\n \\n[客户问题] 我不想要一楼的房子。\\n[销售回答] 我理解您的顾虑，我们还有多个楼层的房源可以选择。\\n  \\n[客户问题] 有优惠吗？\\n[销售回答] 当然，如果您现在下订，我们可以给您一些优惠。\\n \\n[客户问题] 你们是否提供按揭服务？\\n[销售回答] 是的，我们与多家银行合作，可以帮助您快速办理按揭。\\n\\n[客户问题] 税费怎么算？\\n[销售回答] 我们可以提供详细的税费咨询服务，确保您清楚所有费用。\\n\\n[客户问题] 附近有医院吗？\\n[销售回答] 是的，附近有多家大型医院，医疗资源非常丰富。\\n\\n[客户问题] 我担心小区会很拥挤。\\n[销售回答] 这个小区总体规划非常合理，保证了每个单元之间有足够的空间。\\n \\n[客户问题] 这个小区有游泳池和健身房吗？\\n[销售回答] 当然，我们提供全方位的生活设施，包括游泳池和健身房。\\n \\n[客户问题] 我需要两个停车位，怎么办？\\n[销售回答] 我们的小区有充足的停车位，并且可以额外购买，确保您的停车需求得到满足。\\n \\n[客户问题] 小区里有公园吗？\\n[销售回答] 是的，我们有专门设计的绿化区和儿童游乐园，确保您和家人能享受到高质量的生活。\\n  \\n[客户问题] 我看到附近有个建筑工地。\\n[销售回答] 那个工地预计很快就会完工，而且我们的窗户有很好的隔音效果。\\n  \\n[客户问题] 房子是精装还是毛坯？\\n[销售回答] 我们提供多种选择，包括精装和毛坯，以满足不同客户的需求。\\n\\n[客户问题] 这里有商业区吗？\\n[销售回答] 是的，小区附近有大型购物中心和各种餐厅，非常方便。\\n \\n[客户问题] 我需要大阳台。\\n[销售回答] 我们有一些户型设计带有大阳台，您可以在那里种花、晒衣或者放一个小茶几，非常宜人。\\n\\n[客户问题] 我担心电梯不够用。\\n[销售回答] 每栋楼都配有多部高速电梯，基本上不用等待。\\n \\n[客户问题] 垃圾处理怎么样？\\n[销售回答] 我们有专门的垃圾分类和回收系统，非常环保。\\n \\n[客户问题] 我担心交房延期。\\n[销售回答] 我们是知名的房地产开发商，一直严格按照计划执行，您完全可以放心。\\n \\n[客户问题] 我看这里有很多空置房。\\n[销售回答] 这些房源都是新推出的，我们预计在近期内会有更多的家庭搬入。\\n \\n[客户问题] 楼下有便利店吗？\\n[销售回答] 当然，小区内就有便利店，满足您日常生活的基本需求。\\n \\n[客户问题] 我需要分期付款。\\n[销售回答] 我们有多种付款方案，包括分期付款，以减轻您的经济压力。\\n \\n[客户问题] 我家有宠物，可以养吗？\\n[销售回答] 当然，我们是一个宠物友好的社区，但需要遵守一些基本规则。\\n\\n[客户问题] 我想看下水电气等设施。\\n[销售回答] 没问题，我们使用的都是品牌供应商，质量非常可靠。\\n \\n[客户问题] 你们会提供家具吗？\\n[销售回答] 我们的精装房会提供基础家具和家电，让您拎包入住。\\n \\n[客户问题] 都有哪些户型？\\n[销售回答] 我们有从一室到四室不等的多种户型，定能满足您不同的居住需求。\\n  \\n[客户问题] 我听说这个区域交通常常堵塞。\\n[销售回答] 我们小区的位置实际上是绕开了主要交通瓶颈区，所以相对来说会流畅很多。\\n\\n[客户问题] 我很关注环境保护，你们有做到吗？\\n[销售回答] 非常好的问题，我们的建筑采用环保材料，并且在小区规划中也有绿化区域和垃圾分类系统。\\n\\n[客户问题] 楼下会有商铺吗？\\n[销售回答] 是的，楼下将设有商铺，但都是服务性质的，不会影响您的居住体验。\\n\\n[客户问题] 社区活动丰富吗？\\n[销售回答] 我们有专门的社区活动中心，常常组织各种活动，非常丰富。\\n\\n[客户问题] 你们有提供家政服务吗？\\n[销售回答] 我们与多家家政服务公司有合作，可以方便您的日常生活。\\n\\n[客户问题] 我担心物业费会很高。\\n[销售回答] 我们的物业费是根据市场和服务水平来设定的，绝对物有所值。\\n \\n[客户问题] 附近有地铁站吗？\\n[销售回答] 附近就有地铁站，而且有多条公交线路经过，出行非常方便。\\n \\n[客户问题] 这里网络信号怎么样？\\n[销售回答] 我们有完善的网络基础设施，信号覆盖非常好。\\n  \\n[客户问题] 我想先租赁，观察一下再买。\\n[销售回答] 这也是一个不错的选择，我们也提供租赁服务，您可以先体验一下。\\n \\n[客户问题] 有没有燃气管道？\\n[销售回答] 当然有，我们的所有单位都连接了燃气管道，非常安全和便利。\\n \\n[客户问题] 我是投资购房，租金回报如何？\\n[销售回答] 这个区域的租赁市场非常火爆，您投资购房后，租金回报率相当不错。\\n \\n[客户问题] 我喜欢安静，这里噪音大吗？\\n[销售回答] 我们特意进行了隔音设计，并且小区内部也有绿化带，整体非常安静。\\n \\n[客户问题] 我看这个小区还在建设中。\\n[销售回答] 是的，目前正在建设中，但已经接近尾声，很快就会完工。\\n\\n[客户问题] 有哪些休闲设施？\\n[销售回答] 我们有游泳池、健身房、图书馆以及儿童游乐场等多种休闲设施。\\n \\n[客户问题] 我担心暖气不足。\\n[销售回答] 我们使用的是中央供暖系统，温度可以保证。\\n \\n[客户问题] 需要交多少定金？\\n[销售回答] 定金金额取决于您选择的房型和付款方式，我们可以详细为您解释。\\n\\n[客户问题] 哪些银行可以贷款？\\n[销售回答] 我们与多家知名银行合作，贷款流程非常方便。\\n \\n[客户问题] 我可以改变房间的布局吗？\\n[销售回答] 对于毛坯房，您有更多的自由度来改变房间布局。\\n\\n[客户问题] 你们怎么解决停车问题？\\n[销售回答] 我们有地下车库和多个停车位，确保每个家庭都有地方停车。\\n \\n[客户问题] 这里安全吗？\\n[销售回答] 非常安全。我们有24小时的安保人员和先进的监控系统。\\n \\n[客户问题] 我需要比较大的储藏空间。\\n[销售回答] 我们的设计包括了充足的储藏空间，以满足您的需求。\\n\\n[客户问题] 这里的电梯需要等很久吗？\\n[销售回答] 不会的，我们的电梯系统高效可靠，响应速度很快。\\n \\n[客户问题] 你们接受定制吗？\\n[销售回答] 当然，对于特定的户型，我们提供一定程度的定制服务。\\n \\n[客户问题] 我看周围没有学校。\\n[销售回答] 其实附近就有几所知名的学校，并且我们也在考虑未来在社区内建立教育设施。\\n  \\n[客户问题] 我有老人需要照顾，有便利吗？\\n[销售回答] 我们小区有无障碍通道和专门的老年活动中心，非常适合老年人。\\n \\n[客户问题] 这里会不会很吵？\\n[销售回答] 我们有良好的隔音设计和规划，内部环境非常宁静。\\n \\n[客户问题] 这个价位对我来说有点高。\\n[销售回答] 我们有不同户型和付款方案，一定有适合您预算的。\\n \\n[客户问题] 物业管理怎么样？\\n[销售回答] 我们的物业管理得到业主一致好评，服务周到且高效。\\n  \\n[客户问题] 如果我想转卖这个房子呢？\\n[销售回答] 我们的房子位于黄金地段，升值潜力很大，转卖起来不会有问题。\\n \\n[客户问题] 这个小区规模太大了。\\n[销售回答] 实际上，大规模的社区能提供更多的设施和更完善的服务。\\n  \\n[客户问题] 交通如何？\\n[销售回答] 交通非常便利，不仅靠近地铁站，还有多条公交线路。\\n  \\n[客户问题] 附近有医院吗？\\n[销售回答] 有的，距离我们小区不远就有几家大型综合医院。\\n \\n[客户问题] 我担心窗户太小，采光不好。\\n[销售回答] 我们所有的户型都经过精心设计，以确保最佳的采光和通风。\\n  \\n[客户问题] 这个房子看起来太小了。\\n[销售回答] 虽然面积可能不大，但我们的设计使得每一寸空间都得到了充分利用。\\n \\n[客户问题] 我看附近都是老房子。\\n[销售回答] 这个区域正在快速发展，未来的升值潜力非常大。\\n\\n[客户问题] 有没有健身房？\\n[销售回答] 当然，我们的小区内有设备齐全的健身房。\\n \\n[客户问题] 我需要考虑一下。\\n[销售回答] 当然，这是一个重要的决定。但我建议您不要等太久，毕竟好房不等人。\\n \\n[客户问题] 我担心楼下的商业活动会很吵。\\n[销售回答] 我们在规划时就已经考虑到这一点，商业区和居住区有一定的距离和隔音设计。\\n  \\n[客户问题] 我担心新房会有甲醛。\\n[销售回答] 我们使用环保材料建造，并且所有的新房在交付前都会进行甲醛检测。\\n\\n[客户问题] 贷款手续复杂吗？\\n[销售回答] 不复杂，我们会有专业的金融顾问帮您一步步完成所有贷款手续，让您轻松购房。\\n\\n[客户问题] 这个小区的绿化率怎么样？\\n[销售回答] 这里的绿化率高达40%，提供了非常舒适的居住环境，让您置身于城市中的绿色绿洲。\\n\\n[客户问题] 房子的装修风格是怎样的？\\n[销售回答] 我们提供多种装修风格供您选择，都是由顶级设计师打造，既时尚又实用。\\n\\n[客户问题] 这个区域的学校资源怎么样？\\n[销售回答] 这里有多所知名学校，教育资源非常丰富，非常适合有孩子的家庭。\\n\\n[客户问题] 附近有医院吗？\\n[销售回答] 附近有几所大型医院，可以满足您的各种医疗需求。\\n\\n[客户问题] 这个小区的物业管理怎么样？\\n[销售回答] 我们的物业管理团队非常专业，24小时服务，确保您的居住体验舒适安全。\\n\\n[客户问题] 周围的商业设施完善吗？\\n[销售回答] 周围有大型购物中心、超市、餐厅等，满足您的日常生活需求。\\n\\n[客户问题] 房子的采光怎么样？\\n[销售回答] 每套房子都经过精心设计，确保良好的采光和通风，让您享受舒适的居住体验。\\n\\n[客户问题] 小区有健身设施吗？\\n[销售回答] 当然，我们有配备齐全的健身中心，包括游泳池、健身房等。\\n\\n[客户问题] 我担心停车问题。\\n[销售回答] 我们小区内有充足的停车位，还有地下停车场，完全不用担心停车问题。\\n\\n[客户问题] 这个区域的安全性怎么样？\\n[销售回答] 这个区域治安非常好，我们还有24小时的安保巡逻，确保您的安全。\\n\\n[客户问题] 这个价格是否有商量的余地？\\n[销售回答] 我们提供的是市场上最有竞争力的价格，不过您如果决定购买，我们可以探讨一些优惠政策。\\n\\n[客户问题] 小区内部是否有儿童游乐设施？\\n[销售回答] 当然，我们设计了安全且富有趣味的儿童游乐区，让孩子们可以在这里快乐成长。\\n\\n[客户问题] 这个地区未来的发展潜力怎么样？\\n[销售回答] 这个区域未来发展潜力巨大，政府已规划了多项基础设施建设，是一个很有投资价值的选择。\\n\\n[客户问题] 附近有公园或者休闲场所吗？\\n[销售回答] 附近有几个公园和休闲场所，非常适合周末家庭出游。\\n\\n[客户问题] 交房时间是什么时候？\\n[销售回答] 我们计划在明年中旬交房，目前进度非常顺利。\\n\\n[客户问题] 小区是否有社区活动？\\n[销售回答] 我们的小区会定期组织各种社区活动，增进邻里之间的交流。\\n\\n[客户问题] 房屋质量怎么样？\\n[销售回答] 我们的房屋采用了高品质的建筑材料，经过严格的质量检验，保证了房屋的耐用性和安全性。\\n\\n[客户问题] 有没有可供选择的房型？\\n[销售回答] 我们提供多种房型，从一居室到四居室不等，满足不同家庭的需求。\\n\\n[客户问题] 小区内是否有老年人设施？\\n[销售回答] 当然，我们考虑到了老年人的需求，设置了专门的休息区和健身设施。\\n\\n[客户问题] 这个区域未来有哪些大型项目？\\n[销售回答] 未来这里会有新的购物中心、企业园区等项目，将进一步提升这个区域的价值。\\n\\n[客户问题] 有无环保措施？\\n[销售回答] 我们的建筑设计符合环保标准，采用节能材料和技术，致力于打造绿色居住环境。\\n\\n[客户问题] 未来小区的维护费用是怎样的？\\n[销售回答] 我们的物业费用透明合理，根据小区的实际维护费用定价，确保物业服务的高标准。\\n\\n[客户问题] 小区的网络覆盖怎么样？\\n[销售回答] 我们小区内部覆盖了高速宽带网络，确保您的上网体验流畅。\\n\\n[客户问题] 是否有朝南的房型？\\n[销售回答] 当然，我们有多款朝南的房型供您选择，享受充足的阳光和温暖。\\n\\n[客户问题] 小区有什么独特的设计吗？\\n[销售回答] 我们的小区设计理念独特，融合了现代与自然的元素，为您提供一个和谐宜居的环境。\\n\\n[客户问题] 购房后的售后服务怎么样？\\n[销售回答] 我们提供完善的售后服务，包括维修保养等，确保您无忧的居住体验。\\n\\n[客户问题] 小区是否容易出租？\\n[销售回答] 鉴于本区域的热门地段和完善设施，小区的房屋非常容易出租，投资回报率高。\\n\\n[客户问题] 周边的自然环境如何？\\n[销售回答] 周边有丰富的自然景观，包括公园和湖泊，为您提供一个宁静舒适的居住环境。\\n\\n[客户问题] 小区的防灾措施怎么样？\\n[销售回答] 我们的小区配备了先进的防灾系统，包括消防和地震预警，确保您的安全。\\n\\n[客户问题] 有没有附近的购物中心或超市？\\n[销售回答] 附近有多个购物中心和超市，非常方便您的日常购物和休闲娱乐。\\n\\n[客户问题] 小区内是否有独立的快递收发区？\\n[销售回答] 是的，我们设有专门的快递收发区，方便您随时收发包裹。\\n\\n[客户问题] 是否有针对老人和儿童的安全措施？\\n[销售回答] 当然，我们的小区内设置了多项安全措施，包括防滑地板和低窗台设计，确保老人和儿童的安全。\\n\\n[客户问题] 小区的垃圾处理系统怎么样？\\n[销售回答] 我们采用了先进的垃圾分类和处理系统，致力于创建一个清洁、环保的居住环境。\\n\\n[客户问题] 是否有会客区域或社区中心？\\n[销售回答] 我们的小区设有宽敞舒适的会客区域和社区中心，方便您与邻居交流互动。\\n\\n[客户问题] 小区有无智能家居系统？\\n[销售回答] 是的，我们的房屋配备了智能家居系统，提供更加便捷和智能的生活体验。'"
      ]
     },
     "execution_count": 2,
     "metadata": {},
     "output_type": "execute_result"
    }
   ],
   "source": [
    "real_estate_sales"
   ]
  },
  {
   "cell_type": "code",
   "execution_count": 3,
   "id": "dbe535b8-2bd8-4c31-91d7-eba8aa61b3ef",
   "metadata": {
    "tags": []
   },
   "outputs": [],
   "source": [
    "from langchain.text_splitter import CharacterTextSplitter"
   ]
  },
  {
   "cell_type": "code",
   "execution_count": 4,
   "id": "a4f30d9b-9fc6-4860-a497-0aa8220b9284",
   "metadata": {
    "tags": []
   },
   "outputs": [],
   "source": [
    "text_splitter = CharacterTextSplitter(        \n",
    "    separator = r'\\n\\s*\\n',\n",
    "    chunk_size = 80,\n",
    "    chunk_overlap  = 0,\n",
    "    length_function = len,\n",
    "    is_separator_regex = True,\n",
    ")"
   ]
  },
  {
   "cell_type": "code",
   "execution_count": 5,
   "id": "530f3172-17a5-4924-ad17-284fbca422ae",
   "metadata": {
    "tags": []
   },
   "outputs": [],
   "source": [
    "docs = text_splitter.create_documents([real_estate_sales])"
   ]
  },
  {
   "cell_type": "code",
   "execution_count": 6,
   "id": "3956ec36-706e-4f43-88fc-d704f2984290",
   "metadata": {
    "tags": []
   },
   "outputs": [
    {
     "data": {
      "text/plain": [
       "Document(page_content='[客户问题] 这个小区交通便利吗？\\n[销售回答] 当然了，这个小区距离地铁站只有几分钟的步行距离，而且附近有多条公交线路，非常方便。')"
      ]
     },
     "execution_count": 6,
     "metadata": {},
     "output_type": "execute_result"
    }
   ],
   "source": [
    "docs[0]"
   ]
  },
  {
   "cell_type": "code",
   "execution_count": 7,
   "id": "73b2d47a-27ae-4cd4-a72a-3809b4c22bff",
   "metadata": {
    "tags": []
   },
   "outputs": [
    {
     "data": {
      "text/plain": [
       "106"
      ]
     },
     "execution_count": 7,
     "metadata": {},
     "output_type": "execute_result"
    }
   ],
   "source": [
    "len(docs)"
   ]
  },
  {
   "cell_type": "code",
   "execution_count": 8,
   "id": "508c2ab2-e187-424f-a43c-ca3d3b1a0550",
   "metadata": {
    "tags": []
   },
   "outputs": [
    {
     "name": "stderr",
     "output_type": "stream",
     "text": [
      "C:\\anaconda3\\Lib\\site-packages\\langchain_core\\_api\\deprecation.py:117: LangChainDeprecationWarning: The class `langchain_community.embeddings.openai.OpenAIEmbeddings` was deprecated in langchain-community 0.1.0 and will be removed in 0.2.0. An updated version of the class exists in the langchain-openai package and should be used instead. To use it run `pip install -U langchain-openai` and import as `from langchain_openai import OpenAIEmbeddings`.\n",
      "  warn_deprecated(\n"
     ]
    }
   ],
   "source": [
    "# 使用 Faiss 作为向量数据库\n",
    "from langchain.embeddings.openai import OpenAIEmbeddings\n",
    "from langchain.text_splitter import CharacterTextSplitter\n",
    "from langchain.vectorstores import FAISS\n",
    "\n",
    "db = FAISS.from_documents(docs, OpenAIEmbeddings())"
   ]
  },
  {
   "cell_type": "code",
   "execution_count": 9,
   "id": "250e0873-95e2-4372-98a5-68c0feb304bb",
   "metadata": {
    "tags": []
   },
   "outputs": [],
   "source": [
    "query = \"小区吵不吵\""
   ]
  },
  {
   "cell_type": "code",
   "execution_count": 10,
   "id": "0d18fcc6-c2be-434b-b8de-9648ac6f83f4",
   "metadata": {
    "tags": []
   },
   "outputs": [],
   "source": [
    "answer_list = db.similarity_search(query)"
   ]
  },
  {
   "cell_type": "code",
   "execution_count": 11,
   "id": "e689667e-7a45-40d6-9eae-4e52cbc7daab",
   "metadata": {
    "tags": []
   },
   "outputs": [
    {
     "name": "stdout",
     "output_type": "stream",
     "text": [
      "[客户问题] 我担心楼下太吵。\n",
      "[销售回答] 这个小区特别注重居住体验，我们有良好的隔音设计，并且小区内部规划了绿化区域，可以有效降低噪音。\n",
      "\n",
      "[客户问题] 我担心楼下的商业活动会很吵。\n",
      "[销售回答] 我们在规划时就已经考虑到这一点，商业区和居住区有一定的距离和隔音设计。\n",
      "\n",
      "[客户问题] 我喜欢安静，这里噪音大吗？\n",
      "[销售回答] 我们特意进行了隔音设计，并且小区内部也有绿化带，整体非常安静。\n",
      "\n",
      "[客户问题] 我担心小区会很拥挤。\n",
      "[销售回答] 这个小区总体规划非常合理，保证了每个单元之间有足够的空间。\n",
      "\n"
     ]
    }
   ],
   "source": [
    "# 可以看出similarity_search可能搜出不相关的答案\n",
    "for ans in answer_list:\n",
    "    print(ans.page_content + \"\\n\")"
   ]
  },
  {
   "cell_type": "code",
   "execution_count": 12,
   "id": "a6cc47bf-1566-472f-84d2-a46bd634907c",
   "metadata": {
    "tags": []
   },
   "outputs": [],
   "source": [
    "db.save_local(\"real_estates_sale\")"
   ]
  },
  {
   "cell_type": "code",
   "execution_count": 13,
   "id": "17f051c9-8676-48d1-a9a4-e69b52630faf",
   "metadata": {
    "tags": []
   },
   "outputs": [],
   "source": [
    "# 实例化一个 TopK Retriever\n",
    "topK_retriever = db.as_retriever(search_kwargs={\"k\": 3})"
   ]
  },
  {
   "cell_type": "code",
   "execution_count": 14,
   "id": "e33024db-ca7b-4d68-9b0e-c31c15ded57d",
   "metadata": {
    "tags": []
   },
   "outputs": [
    {
     "data": {
      "text/plain": [
       "VectorStoreRetriever(tags=['FAISS', 'OpenAIEmbeddings'], vectorstore=<langchain_community.vectorstores.faiss.FAISS object at 0x00000184E18D38D0>, search_kwargs={'k': 3})"
      ]
     },
     "execution_count": 14,
     "metadata": {},
     "output_type": "execute_result"
    }
   ],
   "source": [
    "topK_retriever"
   ]
  },
  {
   "cell_type": "code",
   "execution_count": 15,
   "id": "7efb1414-859f-4818-bacd-e1e2edf34b95",
   "metadata": {
    "tags": []
   },
   "outputs": [
    {
     "name": "stdout",
     "output_type": "stream",
     "text": [
      "[客户问题] 我担心楼下太吵。\n",
      "[销售回答] 这个小区特别注重居住体验，我们有良好的隔音设计，并且小区内部规划了绿化区域，可以有效降低噪音。\n",
      "\n",
      "[客户问题] 我担心楼下的商业活动会很吵。\n",
      "[销售回答] 我们在规划时就已经考虑到这一点，商业区和居住区有一定的距离和隔音设计。\n",
      "\n",
      "[客户问题] 我喜欢安静，这里噪音大吗？\n",
      "[销售回答] 我们特意进行了隔音设计，并且小区内部也有绿化带，整体非常安静。\n",
      "\n"
     ]
    }
   ],
   "source": [
    "docs = topK_retriever.get_relevant_documents(query)\n",
    "for doc in docs:\n",
    "    print(doc.page_content + \"\\n\")"
   ]
  },
  {
   "cell_type": "code",
   "execution_count": 16,
   "id": "a3c4b62d-6f8f-461b-a4fb-41c8a404b831",
   "metadata": {
    "tags": []
   },
   "outputs": [],
   "source": [
    "docs = topK_retriever.get_relevant_documents(\"你们有没有1000万的豪宅啊？\")"
   ]
  },
  {
   "cell_type": "code",
   "execution_count": 17,
   "id": "04cca3d7-23d9-491f-8350-faeb19861dec",
   "metadata": {
    "tags": []
   },
   "outputs": [
    {
     "name": "stdout",
     "output_type": "stream",
     "text": [
      "[客户问题] 有没有可供选择的房型？\n",
      "[销售回答] 我们提供多种房型，从一居室到四居室不等，满足不同家庭的需求。\n",
      "\n",
      "[客户问题] 是否有朝南的房型？\n",
      "[销售回答] 当然，我们有多款朝南的房型供您选择，享受充足的阳光和温暖。\n",
      "\n",
      "[客户问题] 你们会提供家具吗？\n",
      "[销售回答] 我们的精装房会提供基础家具和家电，让您拎包入住。\n",
      "\n"
     ]
    }
   ],
   "source": [
    "for doc in docs:\n",
    "    print(doc.page_content + \"\\n\")"
   ]
  },
  {
   "cell_type": "code",
   "execution_count": 18,
   "id": "b1298956-6cf3-4a68-a3c2-a3149f64f156",
   "metadata": {
    "tags": []
   },
   "outputs": [],
   "source": [
    "# 实例化一个 similarity_score_threshold Retriever\n",
    "retriever = db.as_retriever(\n",
    "    search_type=\"similarity_score_threshold\",\n",
    "    search_kwargs={\"score_threshold\": 0.8}\n",
    ")"
   ]
  },
  {
   "cell_type": "code",
   "execution_count": 19,
   "id": "d61167de-72ed-4618-a2e1-5df04784a3bc",
   "metadata": {
    "tags": []
   },
   "outputs": [
    {
     "name": "stdout",
     "output_type": "stream",
     "text": [
      "[客户问题] 我担心楼下太吵。\n",
      "[销售回答] 这个小区特别注重居住体验，我们有良好的隔音设计，并且小区内部规划了绿化区域，可以有效降低噪音。\n",
      "\n"
     ]
    }
   ],
   "source": [
    "docs = retriever.get_relevant_documents(query)\n",
    "for doc in docs:\n",
    "    print(doc.page_content + \"\\n\")"
   ]
  },
  {
   "cell_type": "code",
   "execution_count": 20,
   "id": "25768463-da65-4762-978d-51c0c3a9c24b",
   "metadata": {
    "tags": []
   },
   "outputs": [],
   "source": [
    "docs = retriever.get_relevant_documents(query)"
   ]
  },
  {
   "cell_type": "code",
   "execution_count": 21,
   "id": "4838d3da-dca3-4c31-80da-cec75760a833",
   "metadata": {
    "tags": []
   },
   "outputs": [
    {
     "data": {
      "text/plain": [
       "'[客户问题] 我担心楼下太吵。\\n[销售回答] 这个小区特别注重居住体验，我们有良好的隔音设计，并且小区内部规划了绿化区域，可以有效降低噪音。'"
      ]
     },
     "execution_count": 21,
     "metadata": {},
     "output_type": "execute_result"
    }
   ],
   "source": [
    "docs[0].page_content"
   ]
  },
  {
   "cell_type": "code",
   "execution_count": 22,
   "id": "1ba30232-f468-4102-b70c-02c8b74da43d",
   "metadata": {
    "tags": []
   },
   "outputs": [
    {
     "data": {
      "text/plain": [
       "['[客户问题] 我担心楼下太吵。\\n', '这个小区特别注重居住体验，我们有良好的隔音设计，并且小区内部规划了绿化区域，可以有效降低噪音。']"
      ]
     },
     "execution_count": 22,
     "metadata": {},
     "output_type": "execute_result"
    }
   ],
   "source": [
    "docs[0].page_content.split(\"[销售回答] \")"
   ]
  },
  {
   "cell_type": "code",
   "execution_count": 23,
   "id": "bda8eb0c-eb1f-47b2-91ab-4c94ff71c3db",
   "metadata": {
    "tags": []
   },
   "outputs": [],
   "source": [
    "ans = docs[0].page_content.split(\"[销售回答] \")[-1]"
   ]
  },
  {
   "cell_type": "code",
   "execution_count": 24,
   "id": "917a3b6c-3149-42e2-b7b6-abebd94b7f72",
   "metadata": {
    "tags": []
   },
   "outputs": [
    {
     "data": {
      "text/plain": [
       "'这个小区特别注重居住体验，我们有良好的隔音设计，并且小区内部规划了绿化区域，可以有效降低噪音。'"
      ]
     },
     "execution_count": 24,
     "metadata": {},
     "output_type": "execute_result"
    }
   ],
   "source": [
    "ans"
   ]
  },
  {
   "cell_type": "code",
   "execution_count": 25,
   "id": "c311a656-e571-45d6-8690-88e4be2c2a65",
   "metadata": {
    "tags": []
   },
   "outputs": [],
   "source": [
    "from typing import List\n",
    "\n",
    "def sales(query: str, score_threshold: float=0.8) -> List[str]:\n",
    "    retriever = db.as_retriever(search_type=\"similarity_score_threshold\", search_kwargs={\"score_threshold\": score_threshold})    \n",
    "    docs = retriever.get_relevant_documents(query)\n",
    "    ans_list = [doc.page_content.split(\"[销售回答] \")[-1] for doc in docs]\n",
    "\n",
    "    return ans_list"
   ]
  },
  {
   "cell_type": "code",
   "execution_count": 26,
   "id": "2f4c6c08-b97c-4727-9aa1-a474d85a11e4",
   "metadata": {
    "tags": []
   },
   "outputs": [
    {
     "name": "stdout",
     "output_type": "stream",
     "text": [
      "[]\n"
     ]
    },
    {
     "name": "stderr",
     "output_type": "stream",
     "text": [
      "C:\\anaconda3\\Lib\\site-packages\\langchain_core\\vectorstores.py:323: UserWarning: No relevant docs were retrieved using the relevance score threshold 0.8\n",
      "  warnings.warn(\n"
     ]
    }
   ],
   "source": [
    "query = \"我想离医院近点\"\n",
    "\n",
    "print(sales(query))"
   ]
  },
  {
   "cell_type": "code",
   "execution_count": 27,
   "id": "11e3d8b6-839f-4b2f-b519-841e0271f95b",
   "metadata": {
    "tags": []
   },
   "outputs": [
    {
     "name": "stdout",
     "output_type": "stream",
     "text": [
      "['有的，距离我们小区不远就有几家大型综合医院。', '附近有几所大型医院，可以满足您的各种医疗需求。', '是的，附近有多家大型医院，医疗资源非常丰富。']\n"
     ]
    }
   ],
   "source": [
    "# 顾客想表达的是：自己想住在小区中离医院近一些的楼栋\n",
    "# 有一点点答非所问\n",
    "print(sales(query, 0.75))"
   ]
  },
  {
   "cell_type": "code",
   "execution_count": 28,
   "id": "fc5b030a-ae6f-4d42-9577-1420c78aecb1",
   "metadata": {
    "tags": []
   },
   "outputs": [
    {
     "name": "stderr",
     "output_type": "stream",
     "text": [
      "C:\\anaconda3\\Lib\\site-packages\\langchain_core\\vectorstores.py:323: UserWarning: No relevant docs were retrieved using the relevance score threshold 0.8\n",
      "  warnings.warn(\n",
      "C:\\anaconda3\\Lib\\site-packages\\langchain_core\\vectorstores.py:323: UserWarning: No relevant docs were retrieved using the relevance score threshold 0.75\n",
      "  warnings.warn(\n"
     ]
    },
    {
     "name": "stdout",
     "output_type": "stream",
     "text": [
      "score:0.8 ans: []\n",
      "\n",
      "score:0.75 ans: []\n",
      "\n",
      "score:0.5 ans: ['我们有不同户型和付款方案，一定有适合您预算的。', '我们提供的是市场上最有竞争力的价格，不过您如果决定购买，我们可以探讨一些优惠政策。', '我们的房子位于黄金地段，升值潜力很大，转卖起来不会有问题。', '定金金额取决于您选择的房型和付款方式，我们可以详细为您解释。']\n",
      "\n"
     ]
    }
   ],
   "source": [
    "query = \"价格200万以内\"\n",
    "\n",
    "print(f\"score:0.8 ans: {sales(query)}\\n\")\n",
    "print(f\"score:0.75 ans: {sales(query, 0.75)}\\n\")\n",
    "# 虽然0.5有答案，但是其实答非所问\n",
    "print(f\"score:0.5 ans: {sales(query, 0.5)}\\n\")"
   ]
  },
  {
   "cell_type": "code",
   "execution_count": 29,
   "id": "9142feb4-980a-4142-b367-1401021dceef",
   "metadata": {
    "tags": []
   },
   "outputs": [
    {
     "name": "stderr",
     "output_type": "stream",
     "text": [
      "C:\\anaconda3\\Lib\\site-packages\\langchain_core\\_api\\deprecation.py:117: LangChainDeprecationWarning: The class `langchain_community.chat_models.openai.ChatOpenAI` was deprecated in langchain-community 0.0.10 and will be removed in 0.2.0. An updated version of the class exists in the langchain-openai package and should be used instead. To use it run `pip install -U langchain-openai` and import as `from langchain_openai import ChatOpenAI`.\n",
      "  warn_deprecated(\n"
     ]
    }
   ],
   "source": [
    "# 当向量数据库中没有合适答案时，使用大语言模型\n",
    "from langchain.chains import RetrievalQA\n",
    "from langchain.chat_models import ChatOpenAI\n",
    "\n",
    "llm = ChatOpenAI(model_name=\"gpt-4\", temperature=0.5)\n",
    "# RertrievalQA就是RAG，先检索，检索到了就把检索结果作为提示词给GPT-4，让GPT-4增强，检索不到就让GPT-4直接回答原问题\n",
    "qa_chain = RetrievalQA.from_chain_type(llm,\n",
    "                                       retriever=db.as_retriever(search_type=\"similarity_score_threshold\",\n",
    "                                                                 search_kwargs={\"score_threshold\": 0.8}))"
   ]
  },
  {
   "cell_type": "code",
   "execution_count": 30,
   "id": "d281b560-54bb-4a25-a1dc-b23874361654",
   "metadata": {
    "tags": []
   },
   "outputs": [
    {
     "name": "stderr",
     "output_type": "stream",
     "text": [
      "C:\\anaconda3\\Lib\\site-packages\\langchain_core\\_api\\deprecation.py:117: LangChainDeprecationWarning: The function `__call__` was deprecated in LangChain 0.1.0 and will be removed in 0.2.0. Use invoke instead.\n",
      "  warn_deprecated(\n",
      "C:\\anaconda3\\Lib\\site-packages\\langchain_core\\vectorstores.py:323: UserWarning: No relevant docs were retrieved using the relevance score threshold 0.8\n",
      "  warnings.warn(\n"
     ]
    },
    {
     "data": {
      "text/plain": [
       "{'query': '你们小区有200万的房子吗？',\n",
       " 'result': '对不起，作为一个人工智能，我没有实际的物理位置或小区，所以我无法提供有关房产的信息。我建议你直接联系房地产经纪人或者查看在线房地产网站来获取相关信息。'}"
      ]
     },
     "execution_count": 30,
     "metadata": {},
     "output_type": "execute_result"
    }
   ],
   "source": [
    "qa_chain({\"query\": \"你们小区有200万的房子吗？\"})"
   ]
  },
  {
   "cell_type": "code",
   "execution_count": 31,
   "id": "c6a30dcc-fa6b-4282-935c-b07902746e19",
   "metadata": {
    "tags": []
   },
   "outputs": [
    {
     "data": {
      "text/plain": [
       "{'query': '小区吵不吵',\n",
       " 'result': '这个小区特别注重居住体验，有良好的隔音设计，并且小区内部规划了绿化区域，可以有效降低噪音。所以，小区应该不会太吵。'}"
      ]
     },
     "execution_count": 31,
     "metadata": {},
     "output_type": "execute_result"
    }
   ],
   "source": [
    "# 用qa_chain得到的答案更像人的语言，实现了检索+增强（“所以应该不会太吵”）\n",
    "qa_chain({\"query\": \"小区吵不吵\"})"
   ]
  },
  {
   "cell_type": "code",
   "execution_count": 32,
   "id": "9da44bd6-02ef-4fb6-8e9e-7c99aeba483a",
   "metadata": {
    "tags": []
   },
   "outputs": [
    {
     "name": "stdout",
     "output_type": "stream",
     "text": [
      "['这个小区特别注重居住体验，我们有良好的隔音设计，并且小区内部规划了绿化区域，可以有效降低噪音。']\n"
     ]
    }
   ],
   "source": [
    "print(sales(\"小区吵不吵\"))"
   ]
  },
  {
   "cell_type": "code",
   "execution_count": 33,
   "id": "913edd04-37ea-4c3f-9346-086aeb0ab447",
   "metadata": {
    "tags": []
   },
   "outputs": [],
   "source": [
    "# 加载 FAISS 向量数据库已有结果\n",
    "from langchain.embeddings.openai import OpenAIEmbeddings\n",
    "from langchain.vectorstores import FAISS\n",
    "\n",
    "db = FAISS.load_local(\"real_estates_sale\", OpenAIEmbeddings())"
   ]
  },
  {
   "cell_type": "code",
   "execution_count": 34,
   "id": "77d8eee4-6383-4b4a-9737-95ea9fc53b87",
   "metadata": {
    "tags": []
   },
   "outputs": [],
   "source": [
    "from langchain.chains import RetrievalQA\n",
    "from langchain.chat_models import ChatOpenAI\n",
    "\n",
    "llm = ChatOpenAI(model_name=\"gpt-4\", temperature=0.5)\n",
    "qa_chain = RetrievalQA.from_chain_type(llm,\n",
    "                                       retriever=db.as_retriever(search_type=\"similarity_score_threshold\",\n",
    "                                                                 search_kwargs={\"score_threshold\": 0.8}))"
   ]
  },
  {
   "cell_type": "code",
   "execution_count": 35,
   "id": "5dfac197-cadb-47d7-8cbe-1b07a83fc8e1",
   "metadata": {
    "tags": []
   },
   "outputs": [
    {
     "name": "stderr",
     "output_type": "stream",
     "text": [
      "C:\\anaconda3\\Lib\\site-packages\\langchain_core\\vectorstores.py:323: UserWarning: No relevant docs were retrieved using the relevance score threshold 0.8\n",
      "  warnings.warn(\n"
     ]
    },
    {
     "data": {
      "text/plain": [
       "{'query': '我想买别墅，你们有么', 'result': '对不起，我不能帮助您购买别墅。我是一个人工智能，我只能提供信息和回答问题。'}"
      ]
     },
     "execution_count": 35,
     "metadata": {},
     "output_type": "execute_result"
    }
   ],
   "source": [
    "qa_chain({\"query\": \"我想买别墅，你们有么\"})"
   ]
  },
  {
   "cell_type": "code",
   "execution_count": 36,
   "id": "fc393afc-06d3-4483-bd24-efe000ef5f2a",
   "metadata": {
    "tags": []
   },
   "outputs": [],
   "source": [
    "# 输出内部 Chain 的日志\n",
    "qa_chain.combine_documents_chain.verbose = True"
   ]
  },
  {
   "cell_type": "code",
   "execution_count": 37,
   "id": "013c313a-5e7c-48d1-8ed4-eee96e50a99c",
   "metadata": {
    "tags": []
   },
   "outputs": [
    {
     "name": "stderr",
     "output_type": "stream",
     "text": [
      "C:\\anaconda3\\Lib\\site-packages\\langchain_core\\vectorstores.py:323: UserWarning: No relevant docs were retrieved using the relevance score threshold 0.8\n",
      "  warnings.warn(\n"
     ]
    },
    {
     "name": "stdout",
     "output_type": "stream",
     "text": [
      "\n",
      "\n",
      "\u001b[1m> Entering new StuffDocumentsChain chain...\u001b[0m\n",
      "\n",
      "\u001b[1m> Finished chain.\u001b[0m\n"
     ]
    },
    {
     "data": {
      "text/plain": [
       "{'query': '我想买别墅，你们有么', 'result': '对不起，我不能帮助您购买别墅，因为我是一个人工智能，没有提供房地产服务的能力。'}"
      ]
     },
     "execution_count": 37,
     "metadata": {},
     "output_type": "execute_result"
    }
   ],
   "source": [
    "qa_chain({\"query\": \"我想买别墅，你们有么\"})"
   ]
  },
  {
   "cell_type": "code",
   "execution_count": 38,
   "id": "e5fb0943-ffe9-4270-8dbe-f5f5314e6042",
   "metadata": {
    "tags": []
   },
   "outputs": [],
   "source": [
    "# 返回向量数据库的检索结果\n",
    "qa_chain.return_source_documents = True"
   ]
  },
  {
   "cell_type": "code",
   "execution_count": 39,
   "id": "fbc1741e-d34f-4df5-874b-02b78e8cd67a",
   "metadata": {
    "tags": []
   },
   "outputs": [
    {
     "name": "stdout",
     "output_type": "stream",
     "text": [
      "\n",
      "\n",
      "\u001b[1m> Entering new StuffDocumentsChain chain...\u001b[0m\n"
     ]
    },
    {
     "name": "stderr",
     "output_type": "stream",
     "text": [
      "C:\\anaconda3\\Lib\\site-packages\\langchain_core\\vectorstores.py:323: UserWarning: No relevant docs were retrieved using the relevance score threshold 0.8\n",
      "  warnings.warn(\n"
     ]
    },
    {
     "name": "stdout",
     "output_type": "stream",
     "text": [
      "\n",
      "\u001b[1m> Finished chain.\u001b[0m\n"
     ]
    },
    {
     "data": {
      "text/plain": [
       "{'query': '我想买别墅，你们有么',\n",
       " 'result': '对不起，我无法提供购买别墅的服务。我是一个人工智能，主要用来提供信息和回答问题。',\n",
       " 'source_documents': []}"
      ]
     },
     "execution_count": 39,
     "metadata": {},
     "output_type": "execute_result"
    }
   ],
   "source": [
    "qa_chain({\"query\": \"我想买别墅，你们有么\"})"
   ]
  },
  {
   "cell_type": "code",
   "execution_count": 40,
   "id": "5a9902f6-ffcb-4377-88c1-074043446554",
   "metadata": {
    "tags": []
   },
   "outputs": [
    {
     "name": "stdout",
     "output_type": "stream",
     "text": [
      "\n",
      "\n",
      "\u001b[1m> Entering new StuffDocumentsChain chain...\u001b[0m\n",
      "\n",
      "\u001b[1m> Finished chain.\u001b[0m\n"
     ]
    },
    {
     "data": {
      "text/plain": [
       "{'query': '周边环境怎么样',\n",
       " 'result': '周边环境非常好，有丰富的自然景观，包括公园和湖泊，可以提供一个宁静舒适的居住环境。同时，周围也有大型购物中心、超市、餐厅等商业设施，可以满足您的日常生活需求。还有几个公园和休闲场所，非常适合周末家庭出游。',\n",
       " 'source_documents': [Document(page_content='[客户问题] 周边的自然环境如何？\\n[销售回答] 周边有丰富的自然景观，包括公园和湖泊，为您提供一个宁静舒适的居住环境。'),\n",
       "  Document(page_content='[客户问题] 周围的商业设施完善吗？\\n[销售回答] 周围有大型购物中心、超市、餐厅等，满足您的日常生活需求。'),\n",
       "  Document(page_content='[客户问题] 附近有公园或者休闲场所吗？\\n[销售回答] 附近有几个公园和休闲场所，非常适合周末家庭出游。')]}"
      ]
     },
     "execution_count": 40,
     "metadata": {},
     "output_type": "execute_result"
    }
   ],
   "source": [
    "# 可以看到，result综合了多个答案（source_documents)\n",
    "qa_chain({\"query\": \"周边环境怎么样\"})"
   ]
  },
  {
   "cell_type": "code",
   "execution_count": null,
   "id": "2ca70ce1-cdae-48c0-9780-40c2f64481e3",
   "metadata": {},
   "outputs": [],
   "source": []
  }
 ],
 "metadata": {
  "kernelspec": {
   "display_name": "Python 3 (ipykernel)",
   "language": "python",
   "name": "python3"
  },
  "language_info": {
   "codemirror_mode": {
    "name": "ipython",
    "version": 3
   },
   "file_extension": ".py",
   "mimetype": "text/x-python",
   "name": "python",
   "nbconvert_exporter": "python",
   "pygments_lexer": "ipython3",
   "version": "3.11.4"
  }
 },
 "nbformat": 4,
 "nbformat_minor": 5
}
